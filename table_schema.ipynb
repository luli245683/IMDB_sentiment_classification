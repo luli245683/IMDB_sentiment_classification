{
 "metadata": {
  "language_info": {
   "codemirror_mode": {
    "name": "ipython",
    "version": 3
   },
   "file_extension": ".py",
   "mimetype": "text/x-python",
   "name": "python",
   "nbconvert_exporter": "python",
   "pygments_lexer": "ipython3",
   "version": "3.7.10"
  },
  "orig_nbformat": 2,
  "kernelspec": {
   "name": "python3710jvsc74a57bd0ead85409a3df2736fa4852a03cf3afe7e5b1dbdc0e40d7d22bbcbf8cf1adf5fa",
   "display_name": "Python 3.7.10 64-bit ('base': conda)"
  }
 },
 "nbformat": 4,
 "nbformat_minor": 2,
 "cells": [
  {
   "cell_type": "code",
   "execution_count": 2,
   "metadata": {},
   "outputs": [],
   "source": [
    "html =  \"\"\"\n",
    "        <h1>每日新聞</h1>\n",
    "        <ul>\n",
    "        {body}\n",
    "        </ul>\n",
    "        \"\"\""
   ]
  },
  {
   "cell_type": "code",
   "execution_count": 7,
   "metadata": {},
   "outputs": [],
   "source": [
    "item  = \"\"\"<li>\n",
    "                <a href='{link}'>\n",
    "                    <h3 > {title}\n",
    "                        <a href='{link}'></a>\n",
    "                    </h3>\n",
    "                </a>\n",
    "            </li>\n",
    "        \"\"\""
   ]
  },
  {
   "cell_type": "code",
   "execution_count": 4,
   "metadata": {},
   "outputs": [],
   "source": [
    "titles = ['遠程醫療商機浮現 亞馬遜高層：多家企業已簽約使用Care', '中國半導體供需缺口 8個中芯產能', '比特幣重返3.7萬美元大關 空頭爆倉約5.7億美元']\n",
    "links = ['https://news.cnyes.com/news/id/4658526?exp=a','https://news.cnyes.com/news/id/4658534?exp=a','https://news.cnyes.com/news/id/4658508?exp=a']"
   ]
  },
  {
   "cell_type": "code",
   "execution_count": 8,
   "metadata": {},
   "outputs": [],
   "source": [
    "assert len(titles) == len(links), 'length of titles not equal the length of urls'\n",
    "body = [item.format(link=link, title=title) for title, link in zip(titles, links)]\n",
    "html = html.format(body=''.join(body))"
   ]
  },
  {
   "cell_type": "code",
   "execution_count": 9,
   "metadata": {},
   "outputs": [
    {
     "output_type": "stream",
     "name": "stdout",
     "text": [
      "\n        <h1>每日新聞</h1>\n        <ul>\n        <li>\n                <a href='https://news.cnyes.com/news/id/4658526?exp=a'>\n                    <h3 > 遠程醫療商機浮現 亞馬遜高層：多家企業已簽約使用Care\n                        <a href='https://news.cnyes.com/news/id/4658526?exp=a'></a>\n                    </h3>\n                </a>\n            </li>\n        <li>\n                <a href='https://news.cnyes.com/news/id/4658534?exp=a'>\n                    <h3 > 中國半導體供需缺口 8個中芯產能\n                        <a href='https://news.cnyes.com/news/id/4658534?exp=a'></a>\n                    </h3>\n                </a>\n            </li>\n        <li>\n                <a href='https://news.cnyes.com/news/id/4658508?exp=a'>\n                    <h3 > 比特幣重返3.7萬美元大關 空頭爆倉約5.7億美元\n                        <a href='https://news.cnyes.com/news/id/4658508?exp=a'></a>\n                    </h3>\n                </a>\n            </li>\n        \n        </ul>\n        \n"
     ]
    }
   ],
   "source": [
    "print(html)"
   ]
  },
  {
   "cell_type": "code",
   "execution_count": null,
   "metadata": {},
   "outputs": [],
   "source": []
  }
 ]
}